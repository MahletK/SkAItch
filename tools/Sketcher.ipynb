{
 "cells": [
  {
   "cell_type": "code",
   "execution_count": 1,
   "metadata": {},
   "outputs": [],
   "source": [
    "import imageio\n",
    "import matplotlib.pyplot as plt\n",
    "import scipy.ndimage\n",
    "import numpy as np\n",
    "import os\n",
    "import path\n",
    "import sys\n",
    "%matplotlib inline"
   ]
  },
  {
   "cell_type": "code",
   "execution_count": 2,
   "metadata": {},
   "outputs": [],
   "source": [
    "IMGS_DIR = './anime'\n",
    "SKETCH_DIR = './sketch'\n",
    "os.makedirs(SKETCH_DIR, exist_ok=True)"
   ]
  },
  {
   "cell_type": "code",
   "execution_count": 3,
   "metadata": {},
   "outputs": [],
   "source": [
    "def read_image(img_dir):\n",
    "    return imageio.imread(img_dir)"
   ]
  },
  {
   "cell_type": "code",
   "execution_count": 4,
   "metadata": {},
   "outputs": [],
   "source": [
    "def greyscale(img):\n",
    "    return np.dot(img[...,:3], [0.299, 0.587, 0.114])"
   ]
  },
  {
   "cell_type": "code",
   "execution_count": 5,
   "metadata": {},
   "outputs": [],
   "source": [
    "def invert_img(img):\n",
    "    return 255-img"
   ]
  },
  {
   "cell_type": "code",
   "execution_count": 6,
   "metadata": {},
   "outputs": [],
   "source": [
    "def blur_img(img):\n",
    "    return scipy.ndimage.filters.gaussian_filter(img,sigma=5)"
   ]
  },
  {
   "cell_type": "code",
   "execution_count": 7,
   "metadata": {},
   "outputs": [],
   "source": [
    "def dodge(front,back):\n",
    " result=front*255/(255-back) \n",
    " result[result>255]=255\n",
    " result[back==255]=255\n",
    " return result.astype('uint8')"
   ]
  },
  {
   "cell_type": "code",
   "execution_count": 8,
   "metadata": {},
   "outputs": [],
   "source": [
    "def to_sketch(img):\n",
    "    gray_img = greyscale(img)\n",
    "    inverted_img = invert_img(gray_img)\n",
    "    blurred_img = blur_img(inverted_img)\n",
    "    \n",
    "    return dodge(blurred_img, gray_img)"
   ]
  },
  {
   "cell_type": "code",
   "execution_count": 9,
   "metadata": {},
   "outputs": [],
   "source": [
    "def save_img(img, img_name):\n",
    "    plt.imsave(img_name, img, cmap='gray', vmin=0, vmax=255)"
   ]
  },
  {
   "cell_type": "code",
   "execution_count": 10,
   "metadata": {},
   "outputs": [],
   "source": [
    "def convert_imgs(img_dir = IMGS_DIR):\n",
    "    images = os.listdir(img_dir)\n",
    "    total = len(images)\n",
    "    count = 0;\n",
    "    for image in os.listdir(img_dir):\n",
    "        count += 1\n",
    "        sys.stdout.write(\"Converting image({}) \\t {} of {} \\t {}% \\r\".format\n",
    "                    (image, count, total, round(count*10000/total)/100))\n",
    "        img_path = img_dir + '/' + image\n",
    "        try:\n",
    "            sketch = to_sketch(read_image(img_path))\n",
    "            save_img(sketch, SKETCH_DIR + '/' + image)\n",
    "        except:\n",
    "            sys.stdout.write(\"\\nError converting %s\\n\" % (image))"
   ]
  },
  {
   "cell_type": "code",
   "execution_count": 11,
   "metadata": {},
   "outputs": [
    {
     "name": "stdout",
     "output_type": "stream",
     "text": [
      "Converting image(-images-characters-9-299421.jpg) \t 1 of 1049 \t 0.1% \r",
      "Converting image(-images-characters-10-72106.jpg) \t 2 of 1049 \t 0.19% \r",
      "Converting image(-images-characters-10-59125.jpg) \t 3 of 1049 \t 0.29% \r",
      "Converting image(-images-characters-15-59912.jpg) \t 4 of 1049 \t 0.38% \r",
      "Converting image(-images-characters-13-284136.jpg) \t 5 of 1049 \t 0.48% \r",
      "Converting image(-images-characters-8-101419.jpg) \t 6 of 1049 \t 0.57% \r",
      "Converting image(-images-characters-12-309480.jpg) \t 7 of 1049 \t 0.67% \r",
      "Converting image(-images-characters-12-72738.jpg) \t 8 of 1049 \t 0.76% \r"
     ]
    },
    {
     "name": "stderr",
     "output_type": "stream",
     "text": [
      "/home/ht/anaconda3/lib/python3.6/site-packages/ipykernel_launcher.py:2: RuntimeWarning: divide by zero encountered in true_divide\n",
      "  \n"
     ]
    },
    {
     "name": "stdout",
     "output_type": "stream",
     "text": [
      "Converting image(-images-characters-7-50690.jpg) \t 9 of 1049 \t 0.86% \r",
      "Converting image(-images-characters-3-258381.jpg) \t 10 of 1049 \t 0.95% \r",
      "Converting image(-images-characters-13-229037.jpg) \t 11 of 1049 \t 1.05% \r",
      "Converting image(-images-characters-3-78211.jpg) \t 12 of 1049 \t 1.14% \r",
      "Converting image(-images-characters-16-33202.jpg) \t 13 of 1049 \t 1.24% \r",
      "Converting image(-images-characters-6-318429.jpg) \t 14 of 1049 \t 1.33% \r",
      "Converting image(-images-characters-5-113407.jpg) \t 15 of 1049 \t 1.43% \r",
      "Converting image(-images-characters-11-192533.jpg) \t 16 of 1049 \t 1.53% \r",
      "Converting image(-images-characters-9-309871.jpg) \t 17 of 1049 \t 1.62% \r",
      "Converting image(-images-characters-4-39353.jpg) \t 18 of 1049 \t 1.72% \r"
     ]
    },
    {
     "name": "stderr",
     "output_type": "stream",
     "text": [
      "/home/ht/anaconda3/lib/python3.6/site-packages/ipykernel_launcher.py:3: RuntimeWarning: invalid value encountered in greater\n",
      "  This is separate from the ipykernel package so we can avoid doing imports until\n"
     ]
    },
    {
     "name": "stdout",
     "output_type": "stream",
     "text": [
      "Converting image(-images-characters-3-341111.jpg) \t 41 of 1049 \t 3.91%  \r"
     ]
    },
    {
     "name": "stderr",
     "output_type": "stream",
     "text": [
      "/home/ht/anaconda3/lib/python3.6/site-packages/ipykernel_launcher.py:2: RuntimeWarning: invalid value encountered in true_divide\n",
      "  \n"
     ]
    },
    {
     "name": "stdout",
     "output_type": "stream",
     "text": [
      "Converting image(-images-characters-13-273847.jpg) \t 1049 of 1049 \t 100.0% \r"
     ]
    }
   ],
   "source": [
    "convert_imgs()"
   ]
  },
  {
   "cell_type": "code",
   "execution_count": null,
   "metadata": {},
   "outputs": [],
   "source": []
  }
 ],
 "metadata": {
  "kernelspec": {
   "display_name": "Python 3",
   "language": "python",
   "name": "python3"
  },
  "language_info": {
   "codemirror_mode": {
    "name": "ipython",
    "version": 3
   },
   "file_extension": ".py",
   "mimetype": "text/x-python",
   "name": "python",
   "nbconvert_exporter": "python",
   "pygments_lexer": "ipython3",
   "version": "3.6.6"
  }
 },
 "nbformat": 4,
 "nbformat_minor": 2
}
